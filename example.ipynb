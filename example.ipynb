{
 "cells": [
  {
   "cell_type": "code",
   "execution_count": 3,
   "id": "a6a8b399-50ff-4d60-bf95-c80f0bc887ea",
   "metadata": {
    "ExecuteTime": {
     "end_time": "2025-08-03T16:33:56.960311Z",
     "start_time": "2025-08-03T16:33:54.096439Z"
    }
   },
   "outputs": [],
   "source": [
    "from extract_features import process_dataset, load_and_process_sample\n",
    "from visualization import signal_viewer\n",
    "from imu_pipeline import IMUPipeline\n",
    "from pathlib import Path\n",
    "import pandas as pd \n",
    "import joblib\n",
    "import os"
   ]
  },
  {
   "cell_type": "code",
   "execution_count": 4,
   "id": "f7165b8b-235f-4a05-85ad-038a4f3784ae",
   "metadata": {
    "ExecuteTime": {
     "end_time": "2025-08-03T16:34:15.479770Z",
     "start_time": "2025-08-03T16:34:15.437957Z"
    }
   },
   "outputs": [
    {
     "data": {
      "application/vnd.jupyter.widget-view+json": {
       "model_id": "d105f787db6d4fbbbf274334419a77b4",
       "version_major": 2,
       "version_minor": 0
      },
      "text/plain": [
       "VBox(children=(Dropdown(description='Sample ID:', layout=Layout(width='50%'), options=('00104b76-d512-43d6-b2e…"
      ]
     },
     "metadata": {},
     "output_type": "display_data"
    }
   ],
   "source": [
    "signal_viewer(\n",
    "    data_dir=Path('data/raw/train'),\n",
    "    labels_csv=Path('data/train.csv')\n",
    ")\n"
   ]
  },
  {
   "cell_type": "markdown",
   "id": "0319cf27-f9e4-470b-9218-8b5bd4f9d0b9",
   "metadata": {},
   "source": [
    "# ❓ Questions to Reflect On\n",
    "\n",
    "\n",
    "- What do you observe when comparing the model’s predictions on the new data to its known performance?\n",
    "\n",
    "- Is there anything in the data that might explain differences in behavior?\n",
    "\n",
    "- Can you identify patterns or trends related to when the model succeeds or fails?\n",
    "\n",
    "- Are there signals or features that seem to affect the model’s reliability?\n",
    "\n",
    "- What could be done in the short term to handle the current situation?\n",
    "\n",
    "- What are potential long-term steps to improve model performance in similar scenarios?\n",
    "\n",
    "- What would you want to explore further if given more time or data?\n",
    "\n",
    "- What assumptions did the model rely on during training — and are they still valid?\n",
    "<div dir=\"rtl\" style=\"text-align: right; font-family: Arial; font-size:16px;\">\n",
    "\n",
    "### 🔍 תשובות לתרגיל Sensor Analysis\n",
    "\n",
    "---\n",
    "\n",
    "✅ **דוגמה תקינה (normal):**  \n",
    "נראה יציב, ללא שינויים בצירים (X, Y, Z). הסיגנל נראה דומה לדוגמאות מסומנות כ־normal.  \n",
    "המודל פועל נכון למדי לזיהוי תנועה תקינה של הרכיב.\n",
    "\n",
    "---\n",
    "\n",
    "❌ **דוגמה חריגה (collision):**  \n",
    "נבחרה דגימה מסומנת כ־collision מתוך התיקייה  \n",
    "<code>cab8d5-926c-417a-bd8a-72d7e3336466</code>.  \n",
    "נראה שינוי חד בין שניות 35–40, שמייצג זעזוע או פגיעת פתאומית — כנראה מגע חזק.\n",
    "\n",
    "---\n",
    "\n",
    "### 📌 תובנות:\n",
    "\n",
    "- המודל מצליח לקלוט פרקים תקינים בזכות היציבות של הסיגנל.  \n",
    "- התנהגות חריגה מתאפיינת בפיקים חדים או שינויים חפוזים בשלושת הצירים.  \n",
    "- אפשר לשפר את הזיהוי אם נוסיף תכונות כמו קצב שינוי או סטיית תקן של הפיקים.  \n",
    "- ייתכן שהמודל יתקשה לזהות תנועה שקטה מאוד אם אין בה מאפיינים חזקים.\n",
    "\n",
    "</div>\n",
    "\n"
   ]
  },
  {
   "cell_type": "markdown",
   "id": "abe23a18c6f0042d",
   "metadata": {},
   "source": []
  }
 ],
 "metadata": {
  "kernelspec": {
   "display_name": "Python 3 (ipykernel)",
   "language": "python",
   "name": "python3"
  },
  "language_info": {
   "codemirror_mode": {
    "name": "ipython",
    "version": 3
   },
   "file_extension": ".py",
   "mimetype": "text/x-python",
   "name": "python",
   "nbconvert_exporter": "python",
   "pygments_lexer": "ipython3",
   "version": "3.13.5"
  }
 },
 "nbformat": 4,
 "nbformat_minor": 5
}
